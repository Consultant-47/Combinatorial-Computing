{
 "cells": [
  {
   "cell_type": "code",
   "execution_count": null,
   "metadata": {},
   "outputs": [],
   "source": [
    "from z3 import *\n",
    "\n",
    "\n",
    "def read_file(file_path):\n",
    "    array = []\n",
    "    with open(file_path, 'r') as file:\n",
    "        for line in file:\n",
    "            numbers = line.strip().split()\n",
    "            row = [int(num) for num in numbers]\n",
    "            array.append(row)\n",
    "    return array\n",
    "\n",
    "file_path = \"D:\\OneDrive - Indian Institute of Technology Bombay\\Academics\\IIT Bombay\\Semester 2\\SoC - Combinatorial Computing\\Sudoku_Test.txt\"  # Replace with the actual file path\n",
    "X = read_file(file_path)\n",
    "    \n",
    "A = [ [ Int(\"x_%s_%s\" % (i+1, j+1)) for j in range(9) ] for i in range(9) ]\n",
    "\n",
    "val_bnd = [ And(A[i][j]>0,A[i][j]<=9) for j in range(9) for i in range(9)]\n",
    "uniq_row = [ Distinct(A[i]) for i in range(9)]\n",
    "uniq_col = [ Distinct([ A[i][j] for i in range(9)]) for j in range(9)]\n",
    "uniq_block = [ Distinct([ A[3*i0 + i][3*j0 + j] for i in range(3) for j in range(3)]) for i0 in range(3) for j0 in range(3)]\n",
    "given_val = [ If(X[i][j]==0,True,A[i][j]==X[i][j]) for i in range(9) for j in range(9)]\n",
    "\n",
    "tot_const = val_bnd + uniq_row + uniq_col + uniq_block + given_val\n",
    "\n",
    "s=Solver()\n",
    "s.add(tot_const)\n",
    "\n",
    "if s.check()==sat:\n",
    "    model=s.model()\n",
    "    sol=[ [model.evaluate(A[i][j]) for j in range(9)] for i in range(9)]\n",
    "    for i in range(9):\n",
    "        print(sol[i])\n",
    "else:\n",
    "    print(-1)\n"
   ]
  }
 ],
 "metadata": {
  "language_info": {
   "name": "python"
  },
  "orig_nbformat": 4
 },
 "nbformat": 4,
 "nbformat_minor": 2
}
